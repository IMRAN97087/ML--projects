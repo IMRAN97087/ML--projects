{
 "cells": [
  {
   "cell_type": "markdown",
   "metadata": {},
   "source": [
    "##  Q-1. Install Jupyter notebook and run the first program and share the screenshot of the output. "
   ]
  },
  {
   "cell_type": "code",
   "execution_count": 1,
   "metadata": {},
   "outputs": [
    {
     "name": "stdout",
     "output_type": "stream",
     "text": [
      "this is my first assignment of python\n"
     ]
    },
    {
     "data": {
      "text/plain": [
       "str"
      ]
     },
     "execution_count": 1,
     "metadata": {},
     "output_type": "execute_result"
    }
   ],
   "source": [
    "first_prog='this is my first assignment of python'\n",
    "print(first_prog)\n",
    "type(first_prog)"
   ]
  },
  {
   "cell_type": "markdown",
   "metadata": {},
   "source": [
    "## Q-2.  Write a program which will find all such numbers which are divisible by 7 but are not a multiple of 5, between 2000 and 3200 (both included). The numbers obtained should be printed in a comma-separated sequence on a single line. \n",
    " \n",
    " "
   ]
  },
  {
   "cell_type": "code",
   "execution_count": 13,
   "metadata": {},
   "outputs": [
    {
     "name": "stdout",
     "output_type": "stream",
     "text": [
      "2002 ,2009 ,2016 ,2023 ,2037 ,2044 ,2051 ,2058 ,2072 ,2079 ,2086 ,2093 ,2107 ,2114 ,2121 ,2128 ,2142 ,2149 ,2156 ,2163 ,2177 ,2184 ,2191 ,2198 ,2212 ,2219 ,2226 ,2233 ,2247 ,2254 ,2261 ,2268 ,2282 ,2289 ,2296 ,2303 ,2317 ,2324 ,2331 ,2338 ,2352 ,2359 ,2366 ,2373 ,2387 ,2394 ,2401 ,2408 ,2422 ,2429 ,2436 ,2443 ,2457 ,2464 ,2471 ,2478 ,2492 ,2499 ,2506 ,2513 ,2527 ,2534 ,2541 ,2548 ,2562 ,2569 ,2576 ,2583 ,2597 ,2604 ,2611 ,2618 ,2632 ,2639 ,2646 ,2653 ,2667 ,2674 ,2681 ,2688 ,2702 ,2709 ,2716 ,2723 ,2737 ,2744 ,2751 ,2758 ,2772 ,2779 ,2786 ,2793 ,2807 ,2814 ,2821 ,2828 ,2842 ,2849 ,2856 ,2863 ,2877 ,2884 ,2891 ,2898 ,2912 ,2919 ,2926 ,2933 ,2947 ,2954 ,2961 ,2968 ,2982 ,2989 ,2996 ,3003 ,3017 ,3024 ,3031 ,3038 ,3052 ,3059 ,3066 ,3073 ,3087 ,3094 ,3101 ,3108 ,3122 ,3129 ,3136 ,3143 ,3157 ,3164 ,3171 ,3178 ,3192 ,3199 ,"
     ]
    }
   ],
   "source": [
    "for i   in range(2000,3201):\n",
    "    if(i%7==0 and i%5!=0):\n",
    "        print(i, ',', end = \"\")"
   ]
  },
  {
   "cell_type": "markdown",
   "metadata": {},
   "source": [
    "## Q-3.  Write a Python program to accept the user's first and last name and then getting them printed in the the reverse order with a space between first name and last name. "
   ]
  },
  {
   "cell_type": "code",
   "execution_count": 21,
   "metadata": {},
   "outputs": [
    {
     "name": "stdout",
     "output_type": "stream",
     "text": [
      "please enter your first name.Imran \n",
      "please enter your last name.Ahmed\n",
      "my full name in reverse order is demhA narmI\n"
     ]
    }
   ],
   "source": [
    "first_name=input(\"please enter your first name.\")\n",
    "last_name=input(\"please enter your last name.\")\n",
    "name = first_name + '' + last_name\n",
    "print(\"my full name in reverse order is\" + \" \"  + name[ : : -1])"
   ]
  },
  {
   "cell_type": "markdown",
   "metadata": {},
   "source": [
    "## Q- 4. Write a Python program to find the volume of a sphere with diameter 12 cm.  Formula: V=4/3 * π * r 3 \n",
    " "
   ]
  },
  {
   "cell_type": "code",
   "execution_count": 4,
   "metadata": {},
   "outputs": [
    {
     "name": "stdout",
     "output_type": "stream",
     "text": [
      "12\n",
      "volme of the sphere:- [904.3199999999999]\n"
     ]
    }
   ],
   "source": [
    "D=input()\n",
    "volume=[(4/3)*(3.14)*(int(D)/2)**3]\n",
    "print(\"volme of the sphere:-\", volume)"
   ]
  },
  {
   "cell_type": "markdown",
   "metadata": {},
   "source": [
    "## Q- 5. Write a program which accepts a sequence of comma-separated numbers from console and generate a list. "
   ]
  },
  {
   "cell_type": "code",
   "execution_count": 5,
   "metadata": {},
   "outputs": [
    {
     "name": "stdout",
     "output_type": "stream",
     "text": [
      "comma-seprated numbers:1,2,3,4,5\n",
      "['1', '2', '3', '4', '5']\n"
     ]
    }
   ],
   "source": [
    "num=input(\"comma-seprated numbers:\"  )\n",
    "list=num.split(\",\")\n",
    "print(list)"
   ]
  },
  {
   "cell_type": "markdown",
   "metadata": {},
   "source": [
    "## Q- 6. Create the below pattern using nested for loop in Python. \n",
    "## *\n",
    "## * *\n",
    "## * * *\n",
    "## * * * *\n",
    "## * * * * *\n",
    "## * * * *\n",
    "## * * *\n",
    "## * *\n",
    "## * \n",
    " \n",
    " \n",
    " \n"
   ]
  },
  {
   "cell_type": "code",
   "execution_count": 88,
   "metadata": {},
   "outputs": [
    {
     "name": "stdout",
     "output_type": "stream",
     "text": [
      "\n",
      "*\n",
      "**\n",
      "***\n",
      "****\n",
      "*****\n",
      "****\n",
      "***\n",
      "**\n",
      "*\n"
     ]
    }
   ],
   "source": [
    "   \n",
    "for i in range(0,5,1):\n",
    "    print(\"*\"*i)\n",
    "for j in range(5,0,-1):\n",
    "    print(\"*\"*j)\n",
    "\n"
   ]
  },
  {
   "cell_type": "markdown",
   "metadata": {},
   "source": [
    "## Q-7. Write a Python program to reverse a word after accepting the input from the user. \n",
    " \n",
    "## Sample Output: \n",
    " \n",
    "## Input word: AcadGild \n",
    " \n",
    "## Output: dilGdacA \n",
    " \n",
    " "
   ]
  },
  {
   "cell_type": "code",
   "execution_count": 11,
   "metadata": {},
   "outputs": [
    {
     "name": "stdout",
     "output_type": "stream",
     "text": [
      "AcadGild\n",
      "Entered word is AcadGild\n",
      "after reversing the word: dliGdacA\n"
     ]
    }
   ],
   "source": [
    "word=input()\n",
    "print('Entered word is',word)\n",
    "reverse=word[::-1]\n",
    "print(\"after reversing the word:\",reverse)"
   ]
  },
  {
   "cell_type": "markdown",
   "metadata": {},
   "source": [
    "## Q-8. Write a Python Program to print the given string in the format specified in the ​sample output. \n",
    "## WE, THE PEOPLE OF INDIA, having solemnly resolved to constitute India into a SOVEREIGN, SOCIALIST, SECULAR, DEMOCRATIC REPUBLIC and to secure to all its citizens \n",
    " \n",
    "## Sample Output: \n",
    " \n",
    "## WE, THE PEOPLE OF INDIA,  \n",
    "##                   having solemnly resolved to constitute India into a SOVEREIGN, ! \n",
    "##                                    SOCIALIST, SECULAR, DEMOCRATIC REPUBLIC   \n",
    "##                                                   and to secure to all its citizens \n",
    " \n",
    " \n",
    " "
   ]
  },
  {
   "cell_type": "code",
   "execution_count": 22,
   "metadata": {},
   "outputs": [
    {
     "name": "stdout",
     "output_type": "stream",
     "text": [
      "WE, THE PEOPLE OF INDIA,\n",
      "\thaving solemnly resolved to constitute India into a SOVEREIGN, ! \n",
      "\t\t SOCIALIST, SECULAR, DEMOCRATIC REPUBLIC\n",
      "\t\t\tand to secure to all its citizens.\n"
     ]
    }
   ],
   "source": [
    "print(\"\"\"WE, THE PEOPLE OF INDIA,\\n\\thaving solemnly resolved to constitute India into a SOVEREIGN, ! \\n\\t\\t SOCIALIST, SECULAR, DEMOCRATIC REPUBLIC\\n\\t\\t\\tand to secure to all its citizens.\"\"\") \n",
    " \n",
    " \n"
   ]
  },
  {
   "cell_type": "markdown",
   "metadata": {},
   "source": [
    "##                                                         -----:END OF ASSIGNMENT:-----"
   ]
  },
  {
   "cell_type": "code",
   "execution_count": null,
   "metadata": {},
   "outputs": [],
   "source": []
  }
 ],
 "metadata": {
  "kernelspec": {
   "display_name": "Python 3",
   "language": "python",
   "name": "python3"
  },
  "language_info": {
   "codemirror_mode": {
    "name": "ipython",
    "version": 3
   },
   "file_extension": ".py",
   "mimetype": "text/x-python",
   "name": "python",
   "nbconvert_exporter": "python",
   "pygments_lexer": "ipython3",
   "version": "3.7.3"
  }
 },
 "nbformat": 4,
 "nbformat_minor": 2
}
